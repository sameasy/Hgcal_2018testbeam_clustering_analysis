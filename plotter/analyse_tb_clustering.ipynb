{
 "cells": [
  {
   "cell_type": "code",
   "execution_count": null,
   "metadata": {},
   "outputs": [],
   "source": [
    "from IPython.core.display import display, HTML\n",
    "display(HTML(\"<style>.container { width:98% !important; }</style>\"))"
   ]
  },
  {
   "cell_type": "code",
   "execution_count": null,
   "metadata": {},
   "outputs": [],
   "source": [
    "import uproot\n",
    "import awkward as ak\n",
    "import numpy as np\n",
    "import os\n",
    "import math"
   ]
  },
  {
   "cell_type": "code",
   "execution_count": null,
   "metadata": {},
   "outputs": [],
   "source": [
    "fname='CLUE_clusters.root' ## with CLUS->LC->rechit mapping\n",
    "test = uproot.open(fname)[\"clusters\"]"
   ]
  },
  {
   "cell_type": "code",
   "execution_count": null,
   "metadata": {},
   "outputs": [],
   "source": [
    "test.keys()"
   ]
  },
  {
   "cell_type": "code",
   "execution_count": null,
   "metadata": {},
   "outputs": [],
   "source": [
    "## Access properties \n",
    "# rechits\n",
    "rhar = test.arrays([\"rechits_x\",\"rechits_y\",\"rechits_z\",\"rechits_layer\",\"rechits_energy\"])\n",
    "# 2D clusters\n",
    "clar = test.arrays([\"clus2D_x\",\"clus2D_y\",\"clus2D_z\",\"clus2D_layer\",\"clus2D_energy\"])#,\"clus2D_idxs\"])\n",
    "# 3D clusters\n",
    "cl3ar = test.arrays([\"clus3D_x\",\"clus3D_y\",\"clus3D_z\",\"clus3D_layer\",\"clus3D_energy\"])#,\"clus3D_idxs\"])\n",
    "\n",
    "nevt = len(clar[\"clus2D_x\"])\n",
    "print(\"tot evts:\",nevt)\n",
    "print(\"min: \",np.min(clar[\"clus2D_layer\"]),\" max: \",np.max(clar[\"clus2D_layer\"]),\" layer# in sample\")"
   ]
  },
  {
   "cell_type": "code",
   "execution_count": null,
   "metadata": {
    "scrolled": false
   },
   "outputs": [],
   "source": [
    "import matplotlib.pyplot as plt\n",
    "\n",
    "for ev in range(nevt):\n",
    "    fig, (ax0,ax1,ax2) = plt.subplots(1, 3, figsize=(20,12),dpi=80)    \n",
    "    ax0.scatter(clar[\"clus2D_x\"][ev],clar[\"clus2D_z\"][ev],s=clar[\"clus2D_energy\"][ev]*10,alpha=0.4,c='r',label=\"2D cluster\")\n",
    "    ax0.scatter(cl3ar[\"clus3D_x\"][ev],cl3ar[\"clus3D_z\"][ev],s=cl3ar[\"clus3D_energy\"][ev]*10,alpha=0.4,c='g',label=\"3D cluster\")\n",
    "    #ax0.scatter(cl3ar[\"clus3D_x\"][ev],cl3ar[\"clus3D_z\"][ev],s=50,alpha=0.4,c='g',label=\"3D cluster\")\n",
    "    ax0.scatter(rhar[\"rechits_x\"][ev],rhar[\"rechits_z\"][ev],s=rhar[\"rechits_energy\"][ev]*10,alpha=0.4,c='b',label=\"rechit\")\n",
    "    ax0.set_xlabel('X (cms)')\n",
    "    ax0.set_ylabel('Z (cms)')\n",
    "    #ax0.legend()\n",
    "    \n",
    "    ax1.scatter(clar[\"clus2D_y\"][ev],clar[\"clus2D_z\"][ev],s=clar[\"clus2D_energy\"][ev]*10,alpha=0.4,c='r')\n",
    "    ax1.scatter(rhar[\"rechits_y\"][ev],rhar[\"rechits_z\"][ev],s=rhar[\"rechits_energy\"][ev]*10,alpha=0.4,c='b')\n",
    "    ax1.scatter(cl3ar[\"clus3D_y\"][ev],cl3ar[\"clus3D_z\"][ev],s=cl3ar[\"clus3D_energy\"][ev]*10,alpha=0.4,c='g',label=\"3D cluster\")\n",
    "    ax1.set_xlabel('Y (cms)')\n",
    "    ax1.set_ylabel('Z (cms)')\n",
    "    #ax1.legend()\n",
    "    \n",
    "    ax2.scatter(clar[\"clus2D_x\"][ev],clar[\"clus2D_y\"][ev],s=clar[\"clus2D_energy\"][ev]*10,alpha=0.4,c='r')\n",
    "    ax2.scatter(cl3ar[\"clus3D_x\"][ev],cl3ar[\"clus3D_y\"][ev],s=cl3ar[\"clus3D_energy\"][ev]*10,alpha=0.4,c='g',label=\"3D cluster\")\n",
    "    ax2.scatter(rhar[\"rechits_x\"][ev],rhar[\"rechits_y\"][ev],s=rhar[\"rechits_energy\"][ev]*10,alpha=0.4,c='b')\n",
    "    ax2.set_xlabel('X (cms)')\n",
    "    ax2.set_ylabel('Y (cms)')\n",
    "    #ax2.legend()\n",
    "\n",
    "    plt.show()\n",
    "    \n",
    "    \n",
    "    if ev > 5:\n",
    "        break\n",
    "    "
   ]
  }
 ],
 "metadata": {
  "kernelspec": {
   "display_name": "torchtest",
   "language": "python",
   "name": "torchtest"
  },
  "language_info": {
   "codemirror_mode": {
    "name": "ipython",
    "version": 3
   },
   "file_extension": ".py",
   "mimetype": "text/x-python",
   "name": "python",
   "nbconvert_exporter": "python",
   "pygments_lexer": "ipython3",
   "version": "3.6.13"
  }
 },
 "nbformat": 4,
 "nbformat_minor": 4
}
