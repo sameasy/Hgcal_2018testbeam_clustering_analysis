{
 "cells": [
  {
   "cell_type": "code",
   "execution_count": 1,
   "metadata": {},
   "outputs": [],
   "source": [
    "import pickle\n",
    "import os\n",
    "import matplotlib\n",
    "import matplotlib.pyplot as plt\n",
    "import hist\n",
    "import bokeh.plotting\n",
    "import bokeh.io\n",
    "import bokeh.models"
   ]
  },
  {
   "cell_type": "code",
   "execution_count": 2,
   "metadata": {},
   "outputs": [],
   "source": [
    "outputCacheHistsFolder = '/home/llr/cms/cuisset/hgcal/testbeam18/clue3d-dev/src/plots/cache'\n",
    "with open(os.path.join(outputCacheHistsFolder, \"hists.pkl\"), \"rb\") as f:\n",
    "    hist_dict = pickle.load(f)"
   ]
  },
  {
   "cell_type": "code",
   "execution_count": 3,
   "metadata": {},
   "outputs": [
    {
     "data": {
      "text/plain": [
       "Hist(\n",
       "  IntCategory([20, 50, 80, 100, 120, 150, 200, 250, 300], name='beamEnergy', label='Beam energy (GeV)'),\n",
       "  Integer(0, 30, name='layer', label='Layer number'),\n",
       "  Regular(100, 0, 10, name='energy', label='Reconstructed hit energy'),\n",
       "  Regular(10, -10, 10, name='x'),\n",
       "  Regular(10, -10, 10, name='y'),\n",
       "  storage=Double()) # Sum: 2805172.0"
      ]
     },
     "execution_count": 3,
     "metadata": {},
     "output_type": "execute_result"
    }
   ],
   "source": [
    "rechits_position = hist_dict[\"rechits_position\"]\n",
    "rechits_position"
   ]
  },
  {
   "cell_type": "code",
   "execution_count": 59,
   "metadata": {},
   "outputs": [
    {
     "name": "stdout",
     "output_type": "stream",
     "text": [
      "                    ┌────────────────────────────────────────────────────────┐\n",
      "[-inf,   0) 0       │                                                        │\n",
      "[   0, 0.1) 2345535 │███████████████████████████████████████████████████████ │\n",
      "[ 0.1, 0.2) 253018  │█████▉                                                  │\n",
      "[ 0.2, 0.3) 80529   │█▉                                                      │\n",
      "[ 0.3, 0.4) 41061   │█                                                       │\n",
      "[ 0.4, 0.5) 25876   │▋                                                       │\n",
      "[ 0.5, 0.6) 17402   │▍                                                       │\n",
      "[ 0.6, 0.7) 12712   │▎                                                       │\n",
      "[ 0.7, 0.8) 9242    │▎                                                       │\n",
      "[ 0.8, 0.9) 6711    │▏                                                       │\n",
      "[ 0.9,   1) 4719    │▏                                                       │\n",
      "[   1, 1.1) 3213    │▏                                                       │\n",
      "[ 1.1, 1.2) 2095    │                                                        │\n",
      "[ 1.2, 1.3) 1334    │                                                        │\n",
      "[ 1.3, 1.4) 793     │                                                        │\n",
      "[ 1.4, 1.5) 437     │                                                        │\n",
      "[ 1.5, 1.6) 223     │                                                        │\n",
      "[ 1.6, 1.7) 122     │                                                        │\n",
      "[ 1.7, 1.8) 80      │                                                        │\n",
      "[ 1.8, 1.9) 19      │                                                        │\n",
      "[ 1.9,   2) 15      │                                                        │\n",
      "[   2, 2.1) 11      │                                                        │\n",
      "[ 2.1, 2.2) 5       │                                                        │\n",
      "[ 2.2, 2.3) 2       │                                                        │\n",
      "[ 2.3, 2.4) 2       │                                                        │\n",
      "[ 2.4, 2.5) 2       │                                                        │\n",
      "[ 2.5, 2.6) 2       │                                                        │\n",
      "[ 2.6, 2.7) 1       │                                                        │\n",
      "[ 2.7, 2.8) 1       │                                                        │\n",
      "[ 2.8, 2.9) 1       │                                                        │\n",
      "[ 2.9,   3) 1       │                                                        │\n",
      "[   3, 3.1) 1       │                                                        │\n",
      "[ 3.1, 3.2) 0       │                                                        │\n",
      "[ 3.2, 3.3) 0       │                                                        │\n",
      "[ 3.3, 3.4) 1       │                                                        │\n",
      "[ 3.4, 3.5) 0       │                                                        │\n",
      "[ 3.5, 3.6) 0       │                                                        │\n",
      "[ 3.6, 3.7) 0       │                                                        │\n",
      "[ 3.7, 3.8) 1       │                                                        │\n",
      "[ 3.8, 3.9) 0       │                                                        │\n",
      "[ 3.9,   4) 1       │                                                        │\n",
      "[   4, 4.1) 0       │                                                        │\n",
      "[ 4.1, 4.2) 0       │                                                        │\n",
      "[ 4.2, 4.3) 0       │                                                        │\n",
      "[ 4.3, 4.4) 0       │                                                        │\n",
      "[ 4.4, 4.5) 1       │                                                        │\n",
      "[ 4.5, 4.6) 0       │                                                        │\n",
      "[ 4.6, 4.7) 1       │                                                        │\n",
      "[ 4.7, 4.8) 0       │                                                        │\n",
      "[ 4.8, 4.9) 0       │                                                        │\n",
      "[ 4.9,   5) 0       │                                                        │\n",
      "[   5, 5.1) 1       │                                                        │\n",
      "[ 5.1, 5.2) 0       │                                                        │\n",
      "[ 5.2, 5.3) 0       │                                                        │\n",
      "[ 5.3, 5.4) 0       │                                                        │\n",
      "[ 5.4, 5.5) 0       │                                                        │\n",
      "[ 5.5, 5.6) 0       │                                                        │\n",
      "[ 5.6, 5.7) 0       │                                                        │\n",
      "[ 5.7, 5.8) 0       │                                                        │\n",
      "[ 5.8, 5.9) 0       │                                                        │\n",
      "[ 5.9,   6) 0       │                                                        │\n",
      "[   6, 6.1) 0       │                                                        │\n",
      "[ 6.1, 6.2) 1       │                                                        │\n",
      "[ 6.2, 6.3) 0       │                                                        │\n",
      "[ 6.3, 6.4) 0       │                                                        │\n",
      "[ 6.4, 6.5) 0       │                                                        │\n",
      "[ 6.5, 6.6) 0       │                                                        │\n",
      "[ 6.6, 6.7) 0       │                                                        │\n",
      "[ 6.7, 6.8) 0       │                                                        │\n",
      "[ 6.8, 6.9) 0       │                                                        │\n",
      "[ 6.9,   7) 0       │                                                        │\n",
      "[   7, 7.1) 0       │                                                        │\n",
      "[ 7.1, 7.2) 0       │                                                        │\n",
      "[ 7.2, 7.3) 0       │                                                        │\n",
      "[ 7.3, 7.4) 0       │                                                        │\n",
      "[ 7.4, 7.5) 0       │                                                        │\n",
      "[ 7.5, 7.6) 0       │                                                        │\n",
      "[ 7.6, 7.7) 0       │                                                        │\n",
      "[ 7.7, 7.8) 0       │                                                        │\n",
      "[ 7.8, 7.9) 0       │                                                        │\n",
      "[ 7.9,   8) 0       │                                                        │\n",
      "[   8, 8.1) 0       │                                                        │\n",
      "[ 8.1, 8.2) 0       │                                                        │\n",
      "[ 8.2, 8.3) 0       │                                                        │\n",
      "[ 8.3, 8.4) 0       │                                                        │\n",
      "[ 8.4, 8.5) 0       │                                                        │\n",
      "[ 8.5, 8.6) 0       │                                                        │\n",
      "[ 8.6, 8.7) 0       │                                                        │\n",
      "[ 8.7, 8.8) 0       │                                                        │\n",
      "[ 8.8, 8.9) 0       │                                                        │\n",
      "[ 8.9,   9) 0       │                                                        │\n",
      "[   9, 9.1) 0       │                                                        │\n",
      "[ 9.1, 9.2) 0       │                                                        │\n",
      "[ 9.2, 9.3) 0       │                                                        │\n",
      "[ 9.3, 9.4) 0       │                                                        │\n",
      "[ 9.4, 9.5) 0       │                                                        │\n",
      "[ 9.5, 9.6) 0       │                                                        │\n",
      "[ 9.6, 9.7) 0       │                                                        │\n",
      "[ 9.7, 9.8) 0       │                                                        │\n",
      "[ 9.8, 9.9) 0       │                                                        │\n",
      "[ 9.9,  10) 0       │                                                        │\n",
      "[  10, inf) 0       │                                                        │\n",
      "                    └────────────────────────────────────────────────────────┘\n"
     ]
    }
   ],
   "source": [
    "rechits_position[0,:, :, :, :]\n",
    "h = rechits_position[{\"beamEnergy\":0}].project(\"energy\", \"layer\")\n",
    "h:hist.Hist\n",
    "print(h[:, 1:30:sum].project(\"energy\"))\n",
    "h.stack"
   ]
  },
  {
   "cell_type": "code",
   "execution_count": 57,
   "metadata": {},
   "outputs": [
    {
     "data": {
      "text/html": [
       "<html>\n",
       "<div style=\"display:flex; align-items:center;\">\n",
       "<div style=\"width:290px;\">\n",
       "<svg xmlns=\"http://www.w3.org/2000/svg\" viewBox=\"-10 -105 270 120\">\n",
       "<line x1=\"-5\" y1=\"0\" x2=\"255\" y2=\"0\" style=\"fill:none;stroke-width:2;stroke:currentColor\"/>\n",
       "<text text-anchor=\"middle\" x=\"0\" y=\"15\" style=\"fill:currentColor;\">\n",
       "0\n",
       "</text>\n",
       "<text text-anchor=\"middle\" x=\"250\" y=\"15\" style=\"fill:currentColor;\">\n",
       "10\n",
       "</text>\n",
       "<text text-anchor=\"middle\" x=\"125.0\" y=\"15\" style=\"fill:currentColor;\">\n",
       "Reconstructed hit energy\n",
       "</text>\n",
       "<polyline points=\"  0,0   0,-0 2.5,-0 2.5,-0   5,-0   5,-0 7.5,-0 7.5,-0  10,-0  10,-0 12.5,-0 12.5,-0  15,-0  15,-0 17.5,-0 17.5,-0  20,-0  20,-0 22.5,-0 22.5,-0  25,-0  25,-0 27.5,-0 27.5,-0  30,-0  30,-0 32.5,-0 32.5,-0  35,-0  35,-0 37.5,-0 37.5,-0  40,-0  40,-0 42.5,-0 42.5,-0  45,-0  45,-0 47.5,-0 47.5,-0  50,-0  50,-0 52.5,-0 52.5,-0  55,-0  55,-0 57.5,-0 57.5,-0  60,-0  60,-0 62.5,-0 62.5,-0  65,-0  65,-0 67.5,-0 67.5,-0  70,-0  70,-0 72.5,-0 72.5,-0  75,-0  75,-0 77.5,-0 77.5,-0  80,-0  80,-0 82.5,-0 82.5,-0  85,-0  85,-0 87.5,-0 87.5,-0  90,-0  90,-0 92.5,-0 92.5,-0  95,-0  95,-0 97.5,-0 97.5,-0 100,-0 100,-0 102.5,-0 102.5,-0 105,-0 105,-0 107.5,-0 107.5,-0 110,-0 110,-0 112.5,-0 112.5,-0 115,-0 115,-0 117.5,-0 117.5,-0 120,-0 120,-0 122.5,-0 122.5,-0 125,-0 125,-0 127.5,-0 127.5,-0 130,-0 130,-0 132.5,-0 132.5,-0 135,-0 135,-0 137.5,-0 137.5,-0 140,-0 140,-0 142.5,-0 142.5,-0 145,-0 145,-0 147.5,-0 147.5,-0 150,-0 150,-0 152.5,-0 152.5,-0 155,-0 155,-0 157.5,-0 157.5,-0 160,-0 160,-0 162.5,-0 162.5,-0 165,-0 165,-0 167.5,-0 167.5,-0 170,-0 170,-0 172.5,-0 172.5,-0 175,-0 175,-0 177.5,-0 177.5,-0 180,-0 180,-0 182.5,-0 182.5,-0 185,-0 185,-0 187.5,-0 187.5,-0 190,-0 190,-0 192.5,-0 192.5,-0 195,-0 195,-0 197.5,-0 197.5,-0 200,-0 200,-0 202.5,-0 202.5,-0 205,-0 205,-0 207.5,-0 207.5,-0 210,-0 210,-0 212.5,-0 212.5,-0 215,-0 215,-0 217.5,-0 217.5,-0 220,-0 220,-0 222.5,-0 222.5,-0 225,-0 225,-0 227.5,-0 227.5,-0 230,-0 230,-0 232.5,-0 232.5,-0 235,-0 235,-0 237.5,-0 237.5,-0 240,-0 240,-0 242.5,-0 242.5,-0 245,-0 245,-0 247.5,-0 247.5,-0 250,-0 250,0\" style=\"fill:none; stroke:currentColor;\"/>\n",
       "</svg>\n",
       "</div>\n",
       "<div style=\"flex=grow:1;\">\n",
       "Regular(100, 0, 10, name='energy', label='Reconstructed hit energy')<br/>\n",
       "<hr style=\"margin-top:.2em; margin-bottom:.2em;\"/>\n",
       "Double() Σ=0.0\n",
       "\n",
       "</div>\n",
       "</div>\n",
       "</html>"
      ],
      "text/plain": [
       "Hist(Regular(100, 0, 10, name='energy', label='Reconstructed hit energy'), storage=Double())"
      ]
     },
     "execution_count": 57,
     "metadata": {},
     "output_type": "execute_result"
    }
   ],
   "source": [
    "h2 = rechits_position.project(\"beamEnergy\", \"energy\", \"layer\")\n",
    "h2[{\"layer\":slice(hist.loc(-10), hist.loc(50), sum), \"beamEnergy\":[hist.loc(50), hist.loc(100)]}].project(\"energy\")"
   ]
  },
  {
   "cell_type": "code",
   "execution_count": 47,
   "metadata": {},
   "outputs": [
    {
     "data": {
      "text/plain": [
       "loc(50)"
      ]
     },
     "execution_count": 47,
     "metadata": {},
     "output_type": "execute_result"
    }
   ],
   "source": []
  },
  {
   "cell_type": "code",
   "execution_count": 5,
   "metadata": {},
   "outputs": [
    {
     "data": {
      "text/html": [
       "<div class=\"bk-root\">\n",
       "        <a href=\"https://bokeh.org\" target=\"_blank\" class=\"bk-logo bk-logo-small bk-logo-notebook\"></a>\n",
       "        <span id=\"1002\">Loading BokehJS ...</span>\n",
       "    </div>\n"
      ]
     },
     "metadata": {},
     "output_type": "display_data"
    },
    {
     "data": {
      "application/javascript": "(function(root) {\n  function now() {\n    return new Date();\n  }\n\n  const force = true;\n\n  if (typeof root._bokeh_onload_callbacks === \"undefined\" || force === true) {\n    root._bokeh_onload_callbacks = [];\n    root._bokeh_is_loading = undefined;\n  }\n\nconst JS_MIME_TYPE = 'application/javascript';\n  const HTML_MIME_TYPE = 'text/html';\n  const EXEC_MIME_TYPE = 'application/vnd.bokehjs_exec.v0+json';\n  const CLASS_NAME = 'output_bokeh rendered_html';\n\n  /**\n   * Render data to the DOM node\n   */\n  function render(props, node) {\n    const script = document.createElement(\"script\");\n    node.appendChild(script);\n  }\n\n  /**\n   * Handle when an output is cleared or removed\n   */\n  function handleClearOutput(event, handle) {\n    const cell = handle.cell;\n\n    const id = cell.output_area._bokeh_element_id;\n    const server_id = cell.output_area._bokeh_server_id;\n    // Clean up Bokeh references\n    if (id != null && id in Bokeh.index) {\n      Bokeh.index[id].model.document.clear();\n      delete Bokeh.index[id];\n    }\n\n    if (server_id !== undefined) {\n      // Clean up Bokeh references\n      const cmd_clean = \"from bokeh.io.state import curstate; print(curstate().uuid_to_server['\" + server_id + \"'].get_sessions()[0].document.roots[0]._id)\";\n      cell.notebook.kernel.execute(cmd_clean, {\n        iopub: {\n          output: function(msg) {\n            const id = msg.content.text.trim();\n            if (id in Bokeh.index) {\n              Bokeh.index[id].model.document.clear();\n              delete Bokeh.index[id];\n            }\n          }\n        }\n      });\n      // Destroy server and session\n      const cmd_destroy = \"import bokeh.io.notebook as ion; ion.destroy_server('\" + server_id + \"')\";\n      cell.notebook.kernel.execute(cmd_destroy);\n    }\n  }\n\n  /**\n   * Handle when a new output is added\n   */\n  function handleAddOutput(event, handle) {\n    const output_area = handle.output_area;\n    const output = handle.output;\n\n    // limit handleAddOutput to display_data with EXEC_MIME_TYPE content only\n    if ((output.output_type != \"display_data\") || (!Object.prototype.hasOwnProperty.call(output.data, EXEC_MIME_TYPE))) {\n      return\n    }\n\n    const toinsert = output_area.element.find(\".\" + CLASS_NAME.split(' ')[0]);\n\n    if (output.metadata[EXEC_MIME_TYPE][\"id\"] !== undefined) {\n      toinsert[toinsert.length - 1].firstChild.textContent = output.data[JS_MIME_TYPE];\n      // store reference to embed id on output_area\n      output_area._bokeh_element_id = output.metadata[EXEC_MIME_TYPE][\"id\"];\n    }\n    if (output.metadata[EXEC_MIME_TYPE][\"server_id\"] !== undefined) {\n      const bk_div = document.createElement(\"div\");\n      bk_div.innerHTML = output.data[HTML_MIME_TYPE];\n      const script_attrs = bk_div.children[0].attributes;\n      for (let i = 0; i < script_attrs.length; i++) {\n        toinsert[toinsert.length - 1].firstChild.setAttribute(script_attrs[i].name, script_attrs[i].value);\n        toinsert[toinsert.length - 1].firstChild.textContent = bk_div.children[0].textContent\n      }\n      // store reference to server id on output_area\n      output_area._bokeh_server_id = output.metadata[EXEC_MIME_TYPE][\"server_id\"];\n    }\n  }\n\n  function register_renderer(events, OutputArea) {\n\n    function append_mime(data, metadata, element) {\n      // create a DOM node to render to\n      const toinsert = this.create_output_subarea(\n        metadata,\n        CLASS_NAME,\n        EXEC_MIME_TYPE\n      );\n      this.keyboard_manager.register_events(toinsert);\n      // Render to node\n      const props = {data: data, metadata: metadata[EXEC_MIME_TYPE]};\n      render(props, toinsert[toinsert.length - 1]);\n      element.append(toinsert);\n      return toinsert\n    }\n\n    /* Handle when an output is cleared or removed */\n    events.on('clear_output.CodeCell', handleClearOutput);\n    events.on('delete.Cell', handleClearOutput);\n\n    /* Handle when a new output is added */\n    events.on('output_added.OutputArea', handleAddOutput);\n\n    /**\n     * Register the mime type and append_mime function with output_area\n     */\n    OutputArea.prototype.register_mime_type(EXEC_MIME_TYPE, append_mime, {\n      /* Is output safe? */\n      safe: true,\n      /* Index of renderer in `output_area.display_order` */\n      index: 0\n    });\n  }\n\n  // register the mime type if in Jupyter Notebook environment and previously unregistered\n  if (root.Jupyter !== undefined) {\n    const events = require('base/js/events');\n    const OutputArea = require('notebook/js/outputarea').OutputArea;\n\n    if (OutputArea.prototype.mime_types().indexOf(EXEC_MIME_TYPE) == -1) {\n      register_renderer(events, OutputArea);\n    }\n  }\n  if (typeof (root._bokeh_timeout) === \"undefined\" || force === true) {\n    root._bokeh_timeout = Date.now() + 5000;\n    root._bokeh_failed_load = false;\n  }\n\n  const NB_LOAD_WARNING = {'data': {'text/html':\n     \"<div style='background-color: #fdd'>\\n\"+\n     \"<p>\\n\"+\n     \"BokehJS does not appear to have successfully loaded. If loading BokehJS from CDN, this \\n\"+\n     \"may be due to a slow or bad network connection. Possible fixes:\\n\"+\n     \"</p>\\n\"+\n     \"<ul>\\n\"+\n     \"<li>re-rerun `output_notebook()` to attempt to load from CDN again, or</li>\\n\"+\n     \"<li>use INLINE resources instead, as so:</li>\\n\"+\n     \"</ul>\\n\"+\n     \"<code>\\n\"+\n     \"from bokeh.resources import INLINE\\n\"+\n     \"output_notebook(resources=INLINE)\\n\"+\n     \"</code>\\n\"+\n     \"</div>\"}};\n\n  function display_loaded() {\n    const el = document.getElementById(\"1002\");\n    if (el != null) {\n      el.textContent = \"BokehJS is loading...\";\n    }\n    if (root.Bokeh !== undefined) {\n      if (el != null) {\n        el.textContent = \"BokehJS \" + root.Bokeh.version + \" successfully loaded.\";\n      }\n    } else if (Date.now() < root._bokeh_timeout) {\n      setTimeout(display_loaded, 100)\n    }\n  }\n\n  function run_callbacks() {\n    try {\n      root._bokeh_onload_callbacks.forEach(function(callback) {\n        if (callback != null)\n          callback();\n      });\n    } finally {\n      delete root._bokeh_onload_callbacks\n    }\n    console.debug(\"Bokeh: all callbacks have finished\");\n  }\n\n  function load_libs(css_urls, js_urls, callback) {\n    if (css_urls == null) css_urls = [];\n    if (js_urls == null) js_urls = [];\n\n    root._bokeh_onload_callbacks.push(callback);\n    if (root._bokeh_is_loading > 0) {\n      console.debug(\"Bokeh: BokehJS is being loaded, scheduling callback at\", now());\n      return null;\n    }\n    if (js_urls == null || js_urls.length === 0) {\n      run_callbacks();\n      return null;\n    }\n    console.debug(\"Bokeh: BokehJS not loaded, scheduling load and callback at\", now());\n    root._bokeh_is_loading = css_urls.length + js_urls.length;\n\n    function on_load() {\n      root._bokeh_is_loading--;\n      if (root._bokeh_is_loading === 0) {\n        console.debug(\"Bokeh: all BokehJS libraries/stylesheets loaded\");\n        run_callbacks()\n      }\n    }\n\n    function on_error(url) {\n      console.error(\"failed to load \" + url);\n    }\n\n    for (let i = 0; i < css_urls.length; i++) {\n      const url = css_urls[i];\n      const element = document.createElement(\"link\");\n      element.onload = on_load;\n      element.onerror = on_error.bind(null, url);\n      element.rel = \"stylesheet\";\n      element.type = \"text/css\";\n      element.href = url;\n      console.debug(\"Bokeh: injecting link tag for BokehJS stylesheet: \", url);\n      document.body.appendChild(element);\n    }\n\n    for (let i = 0; i < js_urls.length; i++) {\n      const url = js_urls[i];\n      const element = document.createElement('script');\n      element.onload = on_load;\n      element.onerror = on_error.bind(null, url);\n      element.async = false;\n      element.src = url;\n      console.debug(\"Bokeh: injecting script tag for BokehJS library: \", url);\n      document.head.appendChild(element);\n    }\n  };\n\n  function inject_raw_css(css) {\n    const element = document.createElement(\"style\");\n    element.appendChild(document.createTextNode(css));\n    document.body.appendChild(element);\n  }\n\n  const js_urls = [\"https://cdn.bokeh.org/bokeh/release/bokeh-2.4.3.min.js\", \"https://cdn.bokeh.org/bokeh/release/bokeh-gl-2.4.3.min.js\", \"https://cdn.bokeh.org/bokeh/release/bokeh-widgets-2.4.3.min.js\", \"https://cdn.bokeh.org/bokeh/release/bokeh-tables-2.4.3.min.js\", \"https://cdn.bokeh.org/bokeh/release/bokeh-mathjax-2.4.3.min.js\"];\n  const css_urls = [];\n\n  const inline_js = [    function(Bokeh) {\n      Bokeh.set_log_level(\"info\");\n    },\nfunction(Bokeh) {\n    }\n  ];\n\n  function run_inline_js() {\n    if (root.Bokeh !== undefined || force === true) {\n          for (let i = 0; i < inline_js.length; i++) {\n      inline_js[i].call(root, root.Bokeh);\n    }\nif (force === true) {\n        display_loaded();\n      }} else if (Date.now() < root._bokeh_timeout) {\n      setTimeout(run_inline_js, 100);\n    } else if (!root._bokeh_failed_load) {\n      console.log(\"Bokeh: BokehJS failed to load within specified timeout.\");\n      root._bokeh_failed_load = true;\n    } else if (force !== true) {\n      const cell = $(document.getElementById(\"1002\")).parents('.cell').data().cell;\n      cell.output_area.append_execute_result(NB_LOAD_WARNING)\n    }\n  }\n\n  if (root._bokeh_is_loading === 0) {\n    console.debug(\"Bokeh: BokehJS loaded, going straight to plotting\");\n    run_inline_js();\n  } else {\n    load_libs(css_urls, js_urls, function() {\n      console.debug(\"Bokeh: BokehJS plotting callback run at\", now());\n      run_inline_js();\n    });\n  }\n}(window));",
      "application/vnd.bokehjs_load.v0+json": ""
     },
     "metadata": {},
     "output_type": "display_data"
    }
   ],
   "source": [
    "bokeh.io.output_notebook()\n",
    "p = bokeh.plotting.figure()"
   ]
  },
  {
   "cell_type": "code",
   "execution_count": 6,
   "metadata": {},
   "outputs": [
    {
     "data": {
      "text/plain": [
       "array([0., 0., 0., 0., 0., 0., 0., 0., 0., 0., 0., 0., 0., 0., 0., 0., 0.,\n",
       "       0., 0., 0., 0., 0., 0., 0., 0., 0., 0., 0., 0., 0., 0., 0., 0., 0.,\n",
       "       0., 0., 0., 0., 0., 0., 0., 0., 0., 0., 0., 0., 0., 0., 0., 0., 0.,\n",
       "       0., 0., 0., 0., 0., 0., 0., 0., 0., 0., 0., 0., 0., 0., 0., 0., 0.,\n",
       "       0., 0., 0., 0., 0., 0., 0., 0., 0., 0., 0., 0., 0., 0., 0., 0., 0.,\n",
       "       0., 0., 0., 0., 0., 0., 0., 0., 0., 0., 0., 0., 0., 0., 0.])"
      ]
     },
     "execution_count": 6,
     "metadata": {},
     "output_type": "execute_result"
    }
   ],
   "source": [
    "h[:, 0].view()"
   ]
  },
  {
   "cell_type": "code",
   "execution_count": 7,
   "metadata": {},
   "outputs": [
    {
     "data": {
      "text/html": [
       "\n",
       "  <div class=\"bk-root\" id=\"fa39ee63-32ae-4eb6-8306-33bdd265d0cd\" data-root-id=\"1003\"></div>\n"
      ]
     },
     "metadata": {},
     "output_type": "display_data"
    },
    {
     "data": {
      "application/javascript": "(function(root) {\n  function embed_document(root) {\n  const docs_json = {\"d081e516-0124-480b-9e0e-cbd32f9342e0\":{\"defs\":[],\"roots\":{\"references\":[{\"attributes\":{\"below\":[{\"id\":\"1012\"}],\"center\":[{\"id\":\"1015\"},{\"id\":\"1019\"}],\"left\":[{\"id\":\"1016\"}],\"renderers\":[{\"id\":\"1039\"}],\"title\":{\"id\":\"1041\"},\"toolbar\":{\"id\":\"1027\"},\"x_range\":{\"id\":\"1004\"},\"x_scale\":{\"id\":\"1008\"},\"y_range\":{\"id\":\"1006\"},\"y_scale\":{\"id\":\"1010\"}},\"id\":\"1003\",\"subtype\":\"Figure\",\"type\":\"Plot\"},{\"attributes\":{},\"id\":\"1044\",\"type\":\"BasicTickFormatter\"},{\"attributes\":{\"coordinates\":null,\"data_source\":{\"id\":\"1034\"},\"glyph\":{\"id\":\"1036\"},\"group\":null,\"hover_glyph\":null,\"muted_glyph\":{\"id\":\"1038\"},\"nonselection_glyph\":{\"id\":\"1037\"},\"view\":{\"id\":\"1040\"}},\"id\":\"1039\",\"type\":\"GlyphRenderer\"},{\"attributes\":{\"bottom\":{\"value\":0},\"fill_alpha\":{\"value\":0.2},\"fill_color\":{\"value\":\"#1f77b4\"},\"hatch_alpha\":{\"value\":0.2},\"line_alpha\":{\"value\":0.2},\"line_color\":{\"value\":\"#1f77b4\"}},\"id\":\"1038\",\"type\":\"Quad\"},{\"attributes\":{},\"id\":\"1004\",\"type\":\"DataRange1d\"},{\"attributes\":{},\"id\":\"1006\",\"type\":\"DataRange1d\"},{\"attributes\":{},\"id\":\"1013\",\"type\":\"BasicTicker\"},{\"attributes\":{},\"id\":\"1021\",\"type\":\"WheelZoomTool\"},{\"attributes\":{\"tools\":[{\"id\":\"1020\"},{\"id\":\"1021\"},{\"id\":\"1022\"},{\"id\":\"1023\"},{\"id\":\"1024\"},{\"id\":\"1025\"}]},\"id\":\"1027\",\"type\":\"Toolbar\"},{\"attributes\":{},\"id\":\"1049\",\"type\":\"UnionRenderers\"},{\"attributes\":{\"bottom_units\":\"screen\",\"coordinates\":null,\"fill_alpha\":0.5,\"fill_color\":\"lightgrey\",\"group\":null,\"left_units\":\"screen\",\"level\":\"overlay\",\"line_alpha\":1.0,\"line_color\":\"black\",\"line_dash\":[4,4],\"line_width\":2,\"right_units\":\"screen\",\"syncable\":false,\"top_units\":\"screen\"},\"id\":\"1026\",\"type\":\"BoxAnnotation\"},{\"attributes\":{\"coordinates\":null,\"formatter\":{\"id\":\"1047\"},\"group\":null,\"major_label_policy\":{\"id\":\"1048\"},\"ticker\":{\"id\":\"1013\"}},\"id\":\"1012\",\"type\":\"LinearAxis\"},{\"attributes\":{},\"id\":\"1050\",\"type\":\"Selection\"},{\"attributes\":{\"overlay\":{\"id\":\"1026\"}},\"id\":\"1022\",\"type\":\"BoxZoomTool\"},{\"attributes\":{\"coordinates\":null,\"formatter\":{\"id\":\"1044\"},\"group\":null,\"major_label_policy\":{\"id\":\"1045\"},\"ticker\":{\"id\":\"1017\"}},\"id\":\"1016\",\"type\":\"LinearAxis\"},{\"attributes\":{},\"id\":\"1020\",\"type\":\"PanTool\"},{\"attributes\":{},\"id\":\"1025\",\"type\":\"HelpTool\"},{\"attributes\":{},\"id\":\"1047\",\"type\":\"BasicTickFormatter\"},{\"attributes\":{\"bottom\":{\"value\":0},\"fill_color\":{\"value\":\"#1f77b4\"},\"line_color\":{\"value\":\"#1f77b4\"}},\"id\":\"1036\",\"type\":\"Quad\"},{\"attributes\":{},\"id\":\"1023\",\"type\":\"SaveTool\"},{\"attributes\":{},\"id\":\"1024\",\"type\":\"ResetTool\"},{\"attributes\":{},\"id\":\"1017\",\"type\":\"BasicTicker\"},{\"attributes\":{\"bottom\":{\"value\":0},\"fill_alpha\":{\"value\":0.1},\"fill_color\":{\"value\":\"#1f77b4\"},\"hatch_alpha\":{\"value\":0.1},\"line_alpha\":{\"value\":0.1},\"line_color\":{\"value\":\"#1f77b4\"}},\"id\":\"1037\",\"type\":\"Quad\"},{\"attributes\":{},\"id\":\"1045\",\"type\":\"AllLabels\"},{\"attributes\":{\"axis\":{\"id\":\"1012\"},\"coordinates\":null,\"group\":null,\"ticker\":null},\"id\":\"1015\",\"type\":\"Grid\"},{\"attributes\":{\"data\":{\"left\":{\"__ndarray__\":\"AAAAAAAAAACamZmZmZm5P5qZmZmZmck/MzMzMzMz0z+amZmZmZnZPwAAAAAAAOA/MzMzMzMz4z9nZmZmZmbmP5qZmZmZmek/zMzMzMzM7D8AAAAAAADwP5qZmZmZmfE/MzMzMzMz8z/NzMzMzMz0P2dmZmZmZvY/AAAAAAAA+D+amZmZmZn5PzQzMzMzM/s/zMzMzMzM/D9mZmZmZmb+PwAAAAAAAABAzczMzMzMAECamZmZmZkBQGdmZmZmZgJAMzMzMzMzA0AAAAAAAAAEQM3MzMzMzARAmpmZmZmZBUBnZmZmZmYGQDMzMzMzMwdAAAAAAAAACEDNzMzMzMwIQJqZmZmZmQlAZ2ZmZmZmCkA0MzMzMzMLQAAAAAAAAAxAzMzMzMzMDECamZmZmZkNQGZmZmZmZg5ANDMzMzMzD0AAAAAAAAAQQGZmZmZmZhBAzczMzMzMEEAzMzMzMzMRQJqZmZmZmRFAAAAAAAAAEkBnZmZmZmYSQMzMzMzMzBJAMzMzMzMzE0CamZmZmZkTQAAAAAAAABRAZmZmZmZmFEDNzMzMzMwUQDQzMzMzMxVAmpmZmZmZFUAAAAAAAAAWQGdmZmZmZhZAzMzMzMzMFkAzMzMzMzMXQJmZmZmZmRdAAAAAAAAAGEBmZmZmZmYYQM3MzMzMzBhAMzMzMzMzGUCamZmZmZkZQAAAAAAAABpAZ2ZmZmZmGkDNzMzMzMwaQDQzMzMzMxtAmZmZmZmZG0AAAAAAAAAcQGZmZmZmZhxAzMzMzMzMHEAzMzMzMzMdQJqZmZmZmR1AAAAAAAAAHkBmZmZmZmYeQM3MzMzMzB5ANDMzMzMzH0CamZmZmZkfQAAAAAAAACBANDMzMzMzIEBmZmZmZmYgQJmZmZmZmSBAzczMzMzMIEAAAAAAAAAhQDMzMzMzMyFAZmZmZmZmIUCamZmZmZkhQM3MzMzMzCFAAAAAAAAAIkAzMzMzMzMiQGdmZmZmZiJAmpmZmZmZIkDMzMzMzMwiQAAAAAAAACNAMzMzMzMzI0BmZmZmZmYjQJqZmZmZmSNAzczMzMzMI0A=\",\"dtype\":\"float64\",\"order\":\"little\",\"shape\":[100]},\"right\":{\"__ndarray__\":\"mpmZmZmZuT+amZmZmZnJPzMzMzMzM9M/mpmZmZmZ2T8AAAAAAADgPzMzMzMzM+M/Z2ZmZmZm5j+amZmZmZnpP8zMzMzMzOw/AAAAAAAA8D+amZmZmZnxPzMzMzMzM/M/zczMzMzM9D9nZmZmZmb2PwAAAAAAAPg/mpmZmZmZ+T80MzMzMzP7P8zMzMzMzPw/ZmZmZmZm/j8AAAAAAAAAQM3MzMzMzABAmpmZmZmZAUBnZmZmZmYCQDMzMzMzMwNAAAAAAAAABEDNzMzMzMwEQJqZmZmZmQVAZ2ZmZmZmBkAzMzMzMzMHQAAAAAAAAAhAzczMzMzMCECamZmZmZkJQGdmZmZmZgpANDMzMzMzC0AAAAAAAAAMQMzMzMzMzAxAmpmZmZmZDUBmZmZmZmYOQDQzMzMzMw9AAAAAAAAAEEBmZmZmZmYQQM3MzMzMzBBAMzMzMzMzEUCamZmZmZkRQAAAAAAAABJAZ2ZmZmZmEkDMzMzMzMwSQDMzMzMzMxNAmpmZmZmZE0AAAAAAAAAUQGZmZmZmZhRAzczMzMzMFEA0MzMzMzMVQJqZmZmZmRVAAAAAAAAAFkBnZmZmZmYWQMzMzMzMzBZAMzMzMzMzF0CZmZmZmZkXQAAAAAAAABhAZmZmZmZmGEDNzMzMzMwYQDMzMzMzMxlAmpmZmZmZGUAAAAAAAAAaQGdmZmZmZhpAzczMzMzMGkA0MzMzMzMbQJmZmZmZmRtAAAAAAAAAHEBmZmZmZmYcQMzMzMzMzBxAMzMzMzMzHUCamZmZmZkdQAAAAAAAAB5AZmZmZmZmHkDNzMzMzMweQDQzMzMzMx9AmpmZmZmZH0AAAAAAAAAgQDQzMzMzMyBAZmZmZmZmIECZmZmZmZkgQM3MzMzMzCBAAAAAAAAAIUAzMzMzMzMhQGZmZmZmZiFAmpmZmZmZIUDNzMzMzMwhQAAAAAAAACJAMzMzMzMzIkBnZmZmZmYiQJqZmZmZmSJAzMzMzMzMIkAAAAAAAAAjQDMzMzMzMyNAZmZmZmZmI0CamZmZmZkjQM3MzMzMzCNAAAAAAAAAJEA=\",\"dtype\":\"float64\",\"order\":\"little\",\"shape\":[100]},\"top\":{\"__ndarray__\":\"AAAAgB/lQUEAAAAA0OIOQQAAAAAQqfNAAAAAAKAM5EAAAAAAAEXZQAAAAACA/tBAAAAAAADUyEAAAAAAAA3CQAAAAAAAN7pAAAAAAABvskAAAAAAABqpQAAAAAAAXqBAAAAAAADYlEAAAAAAAMiIQAAAAAAAUHtAAAAAAADga0AAAAAAAIBeQAAAAAAAAFRAAAAAAAAAM0AAAAAAAAAuQAAAAAAAACZAAAAAAAAAFEAAAAAAAAAAQAAAAAAAAABAAAAAAAAAAEAAAAAAAAAAQAAAAAAAAPA/AAAAAAAA8D8AAAAAAADwPwAAAAAAAPA/AAAAAAAA8D8AAAAAAAAAAAAAAAAAAAAAAAAAAAAA8D8AAAAAAAAAAAAAAAAAAAAAAAAAAAAAAAAAAAAAAADwPwAAAAAAAAAAAAAAAAAA8D8AAAAAAAAAAAAAAAAAAAAAAAAAAAAAAAAAAAAAAAAAAAAAAAAAAPA/AAAAAAAAAAAAAAAAAADwPwAAAAAAAAAAAAAAAAAAAAAAAAAAAAAAAAAAAAAAAPA/AAAAAAAAAAAAAAAAAAAAAAAAAAAAAAAAAAAAAAAAAAAAAAAAAAAAAAAAAAAAAAAAAAAAAAAAAAAAAAAAAAAAAAAAAAAAAAAAAAAAAAAAAAAAAAAAAADwPwAAAAAAAAAAAAAAAAAAAAAAAAAAAAAAAAAAAAAAAAAAAAAAAAAAAAAAAAAAAAAAAAAAAAAAAAAAAAAAAAAAAAAAAAAAAAAAAAAAAAAAAAAAAAAAAAAAAAAAAAAAAAAAAAAAAAAAAAAAAAAAAAAAAAAAAAAAAAAAAAAAAAAAAAAAAAAAAAAAAAAAAAAAAAAAAAAAAAAAAAAAAAAAAAAAAAAAAAAAAAAAAAAAAAAAAAAAAAAAAAAAAAAAAAAAAAAAAAAAAAAAAAAAAAAAAAAAAAAAAAAAAAAAAAAAAAAAAAAAAAAAAAAAAAAAAAAAAAAAAAAAAAAAAAAAAAAAAAAAAAAAAAAAAAAAAAAAAAAAAAAAAAAAAAAAAAAAAAAAAAAAAAAAAAAAAAAAAAAAAAAAAAA=\",\"dtype\":\"float64\",\"order\":\"little\",\"shape\":[100]}},\"selected\":{\"id\":\"1050\"},\"selection_policy\":{\"id\":\"1049\"}},\"id\":\"1034\",\"type\":\"ColumnDataSource\"},{\"attributes\":{\"coordinates\":null,\"group\":null},\"id\":\"1041\",\"type\":\"Title\"},{\"attributes\":{\"axis\":{\"id\":\"1016\"},\"coordinates\":null,\"dimension\":1,\"group\":null,\"ticker\":null},\"id\":\"1019\",\"type\":\"Grid\"},{\"attributes\":{},\"id\":\"1048\",\"type\":\"AllLabels\"},{\"attributes\":{},\"id\":\"1010\",\"type\":\"LinearScale\"},{\"attributes\":{\"source\":{\"id\":\"1034\"}},\"id\":\"1040\",\"type\":\"CDSView\"},{\"attributes\":{},\"id\":\"1008\",\"type\":\"LinearScale\"}],\"root_ids\":[\"1003\"]},\"title\":\"Bokeh Application\",\"version\":\"2.4.3\"}};\n  const render_items = [{\"docid\":\"d081e516-0124-480b-9e0e-cbd32f9342e0\",\"root_ids\":[\"1003\"],\"roots\":{\"1003\":\"fa39ee63-32ae-4eb6-8306-33bdd265d0cd\"}}];\n  root.Bokeh.embed.embed_items_notebook(docs_json, render_items);\n  }\n  if (root.Bokeh !== undefined) {\n    embed_document(root);\n  } else {\n    let attempts = 0;\n    const timer = setInterval(function(root) {\n      if (root.Bokeh !== undefined) {\n        clearInterval(timer);\n        embed_document(root);\n      } else {\n        attempts++;\n        if (attempts > 100) {\n          clearInterval(timer);\n          console.log(\"Bokeh: ERROR: Unable to run BokehJS code because BokehJS library is missing\");\n        }\n      }\n    }, 10, root)\n  }\n})(window);",
      "application/vnd.bokehjs_exec.v0+json": ""
     },
     "metadata": {
      "application/vnd.bokehjs_exec.v0+json": {
       "id": "1003"
      }
     },
     "output_type": "display_data"
    }
   ],
   "source": [
    "h_plot = h[:, 2:5].project(\"energy\")\n",
    "source = bokeh.models.ColumnDataSource({\"top\":h_plot.view(), \"left\":h_plot.axes[0].edges[:-1], \"right\":h_plot.axes[0].edges[1:]})\n",
    "#p.quad(top=h[:, 1].view(), bottom=0, left=h.axes[\"energy\"].edges[:-1], right=h.axes[\"energy\"].edges[1:])\n",
    "p.quad(bottom=0, source=source)\n",
    "bokeh.plotting.show(p)\n"
   ]
  },
  {
   "cell_type": "code",
   "execution_count": 8,
   "metadata": {},
   "outputs": [
    {
     "data": {
      "text/html": [
       "<html>\n",
       "<div style=\"display:flex; align-items:center;\">\n",
       "<div style=\"width:290px;\">\n",
       "<svg xmlns=\"http://www.w3.org/2000/svg\" viewBox=\"-10 -105 270 120\">\n",
       "<line x1=\"-5\" y1=\"0\" x2=\"255\" y2=\"0\" style=\"fill:none;stroke-width:2;stroke:currentColor\"/>\n",
       "<text text-anchor=\"middle\" x=\"0\" y=\"15\" style=\"fill:currentColor;\">\n",
       "0\n",
       "</text>\n",
       "<text text-anchor=\"middle\" x=\"250\" y=\"15\" style=\"fill:currentColor;\">\n",
       "10\n",
       "</text>\n",
       "<text text-anchor=\"middle\" x=\"125.0\" y=\"15\" style=\"fill:currentColor;\">\n",
       "Reconstructed hit energy\n",
       "</text>\n",
       "<polyline points=\"  0,0   0,-100 2.5,-100 2.5,-10.8   5,-10.8   5,-3.43 7.5,-3.43 7.5,-1.75  10,-1.75  10,-1.1 12.5,-1.1 12.5,-0.742  15,-0.742  15,-0.542 17.5,-0.542 17.5,-0.394  20,-0.394  20,-0.286 22.5,-0.286 22.5,-0.201  25,-0.201  25,-0.137 27.5,-0.137 27.5,-0.0893  30,-0.0893  30,-0.0569 32.5,-0.0569 32.5,-0.0338  35,-0.0338  35,-0.0186 37.5,-0.0186 37.5,-0.00951  40,-0.00951  40,-0.0052 42.5,-0.0052 42.5,-0.00341  45,-0.00341  45,-0.00081 47.5,-0.00081 47.5,-0.00064  50,-0.00064  50,-0.000469 52.5,-0.000469 52.5,-0.000213  55,-0.000213  55,-8.53e-05 57.5,-8.53e-05 57.5,-8.53e-05  60,-8.53e-05  60,-8.53e-05 62.5,-8.53e-05 62.5,-8.53e-05  65,-8.53e-05  65,-4.26e-05 67.5,-4.26e-05 67.5,-4.26e-05  70,-4.26e-05  70,-4.26e-05 72.5,-4.26e-05 72.5,-4.26e-05  75,-4.26e-05  75,-4.26e-05 77.5,-4.26e-05 77.5,-0  80,-0  80,-0 82.5,-0 82.5,-4.26e-05  85,-4.26e-05  85,-0 87.5,-0 87.5,-0  90,-0  90,-0 92.5,-0 92.5,-4.26e-05  95,-4.26e-05  95,-0 97.5,-0 97.5,-4.26e-05 100,-4.26e-05 100,-0 102.5,-0 102.5,-0 105,-0 105,-0 107.5,-0 107.5,-0 110,-0 110,-4.26e-05 112.5,-4.26e-05 112.5,-0 115,-0 115,-4.26e-05 117.5,-4.26e-05 117.5,-0 120,-0 120,-0 122.5,-0 122.5,-0 125,-0 125,-4.26e-05 127.5,-4.26e-05 127.5,-0 130,-0 130,-0 132.5,-0 132.5,-0 135,-0 135,-0 137.5,-0 137.5,-0 140,-0 140,-0 142.5,-0 142.5,-0 145,-0 145,-0 147.5,-0 147.5,-0 150,-0 150,-0 152.5,-0 152.5,-4.26e-05 155,-4.26e-05 155,-0 157.5,-0 157.5,-0 160,-0 160,-0 162.5,-0 162.5,-0 165,-0 165,-0 167.5,-0 167.5,-0 170,-0 170,-0 172.5,-0 172.5,-0 175,-0 175,-0 177.5,-0 177.5,-0 180,-0 180,-0 182.5,-0 182.5,-0 185,-0 185,-0 187.5,-0 187.5,-0 190,-0 190,-0 192.5,-0 192.5,-0 195,-0 195,-0 197.5,-0 197.5,-0 200,-0 200,-0 202.5,-0 202.5,-0 205,-0 205,-0 207.5,-0 207.5,-0 210,-0 210,-0 212.5,-0 212.5,-0 215,-0 215,-0 217.5,-0 217.5,-0 220,-0 220,-0 222.5,-0 222.5,-0 225,-0 225,-0 227.5,-0 227.5,-0 230,-0 230,-0 232.5,-0 232.5,-0 235,-0 235,-0 237.5,-0 237.5,-0 240,-0 240,-0 242.5,-0 242.5,-0 245,-0 245,-0 247.5,-0 247.5,-0 250,-0 250,0\" style=\"fill:none; stroke:currentColor;\"/>\n",
       "</svg>\n",
       "</div>\n",
       "<div style=\"flex=grow:1;\">\n",
       "Regular(100, 0, 10, name='energy', label='Reconstructed hit energy')<br/>\n",
       "<hr style=\"margin-top:.2em; margin-bottom:.2em;\"/>\n",
       "Double() Σ=2805172.0\n",
       "\n",
       "</div>\n",
       "</div>\n",
       "</html>"
      ],
      "text/plain": [
       "Hist(Regular(100, 0, 10, name='energy', label='Reconstructed hit energy'), storage=Double()) # Sum: 2805172.0"
      ]
     },
     "execution_count": 8,
     "metadata": {},
     "output_type": "execute_result"
    }
   ],
   "source": [
    "h_plot"
   ]
  },
  {
   "cell_type": "code",
   "execution_count": 9,
   "metadata": {},
   "outputs": [
    {
     "data": {
      "text/html": [
       "\n",
       "  <div class=\"bk-root\" id=\"48a5f802-643b-4927-8648-9b2409d30925\" data-root-id=\"1003\"></div>\n"
      ]
     },
     "metadata": {},
     "output_type": "display_data"
    },
    {
     "data": {
      "application/javascript": "(function(root) {\n  function embed_document(root) {\n  const docs_json = {\"5cb0fa7f-1066-425f-908c-b79478d3bdf3\":{\"defs\":[],\"roots\":{\"references\":[{\"attributes\":{\"below\":[{\"id\":\"1012\"}],\"center\":[{\"id\":\"1015\"},{\"id\":\"1019\"}],\"left\":[{\"id\":\"1016\"}],\"renderers\":[{\"id\":\"1039\"}],\"title\":{\"id\":\"1041\"},\"toolbar\":{\"id\":\"1027\"},\"x_range\":{\"id\":\"1004\"},\"x_scale\":{\"id\":\"1008\"},\"y_range\":{\"id\":\"1006\"},\"y_scale\":{\"id\":\"1010\"}},\"id\":\"1003\",\"subtype\":\"Figure\",\"type\":\"Plot\"},{\"attributes\":{},\"id\":\"1044\",\"type\":\"BasicTickFormatter\"},{\"attributes\":{\"coordinates\":null,\"data_source\":{\"id\":\"1034\"},\"glyph\":{\"id\":\"1036\"},\"group\":null,\"hover_glyph\":null,\"muted_glyph\":{\"id\":\"1038\"},\"nonselection_glyph\":{\"id\":\"1037\"},\"view\":{\"id\":\"1040\"}},\"id\":\"1039\",\"type\":\"GlyphRenderer\"},{\"attributes\":{\"bottom\":{\"value\":0},\"fill_alpha\":{\"value\":0.2},\"fill_color\":{\"value\":\"#1f77b4\"},\"hatch_alpha\":{\"value\":0.2},\"line_alpha\":{\"value\":0.2},\"line_color\":{\"value\":\"#1f77b4\"}},\"id\":\"1038\",\"type\":\"Quad\"},{\"attributes\":{},\"id\":\"1004\",\"type\":\"DataRange1d\"},{\"attributes\":{},\"id\":\"1006\",\"type\":\"DataRange1d\"},{\"attributes\":{},\"id\":\"1013\",\"type\":\"BasicTicker\"},{\"attributes\":{},\"id\":\"1021\",\"type\":\"WheelZoomTool\"},{\"attributes\":{\"tools\":[{\"id\":\"1020\"},{\"id\":\"1021\"},{\"id\":\"1022\"},{\"id\":\"1023\"},{\"id\":\"1024\"},{\"id\":\"1025\"}]},\"id\":\"1027\",\"type\":\"Toolbar\"},{\"attributes\":{},\"id\":\"1049\",\"type\":\"UnionRenderers\"},{\"attributes\":{\"bottom_units\":\"screen\",\"coordinates\":null,\"fill_alpha\":0.5,\"fill_color\":\"lightgrey\",\"group\":null,\"left_units\":\"screen\",\"level\":\"overlay\",\"line_alpha\":1.0,\"line_color\":\"black\",\"line_dash\":[4,4],\"line_width\":2,\"right_units\":\"screen\",\"syncable\":false,\"top_units\":\"screen\"},\"id\":\"1026\",\"type\":\"BoxAnnotation\"},{\"attributes\":{\"coordinates\":null,\"formatter\":{\"id\":\"1047\"},\"group\":null,\"major_label_policy\":{\"id\":\"1048\"},\"ticker\":{\"id\":\"1013\"}},\"id\":\"1012\",\"type\":\"LinearAxis\"},{\"attributes\":{},\"id\":\"1050\",\"type\":\"Selection\"},{\"attributes\":{\"overlay\":{\"id\":\"1026\"}},\"id\":\"1022\",\"type\":\"BoxZoomTool\"},{\"attributes\":{\"coordinates\":null,\"formatter\":{\"id\":\"1044\"},\"group\":null,\"major_label_policy\":{\"id\":\"1045\"},\"ticker\":{\"id\":\"1017\"}},\"id\":\"1016\",\"type\":\"LinearAxis\"},{\"attributes\":{},\"id\":\"1020\",\"type\":\"PanTool\"},{\"attributes\":{},\"id\":\"1025\",\"type\":\"HelpTool\"},{\"attributes\":{},\"id\":\"1047\",\"type\":\"BasicTickFormatter\"},{\"attributes\":{\"bottom\":{\"value\":0},\"fill_color\":{\"value\":\"#1f77b4\"},\"line_color\":{\"value\":\"#1f77b4\"}},\"id\":\"1036\",\"type\":\"Quad\"},{\"attributes\":{},\"id\":\"1023\",\"type\":\"SaveTool\"},{\"attributes\":{},\"id\":\"1024\",\"type\":\"ResetTool\"},{\"attributes\":{},\"id\":\"1017\",\"type\":\"BasicTicker\"},{\"attributes\":{\"bottom\":{\"value\":0},\"fill_alpha\":{\"value\":0.1},\"fill_color\":{\"value\":\"#1f77b4\"},\"hatch_alpha\":{\"value\":0.1},\"line_alpha\":{\"value\":0.1},\"line_color\":{\"value\":\"#1f77b4\"}},\"id\":\"1037\",\"type\":\"Quad\"},{\"attributes\":{},\"id\":\"1045\",\"type\":\"AllLabels\"},{\"attributes\":{\"axis\":{\"id\":\"1012\"},\"coordinates\":null,\"group\":null,\"ticker\":null},\"id\":\"1015\",\"type\":\"Grid\"},{\"attributes\":{\"data\":{\"left\":{\"__ndarray__\":\"AAAAAAAAAACamZmZmZm5P5qZmZmZmck/MzMzMzMz0z+amZmZmZnZPwAAAAAAAOA/MzMzMzMz4z9nZmZmZmbmP5qZmZmZmek/zMzMzMzM7D8AAAAAAADwP5qZmZmZmfE/MzMzMzMz8z/NzMzMzMz0P2dmZmZmZvY/AAAAAAAA+D+amZmZmZn5PzQzMzMzM/s/zMzMzMzM/D9mZmZmZmb+PwAAAAAAAABAzczMzMzMAECamZmZmZkBQGdmZmZmZgJAMzMzMzMzA0AAAAAAAAAEQM3MzMzMzARAmpmZmZmZBUBnZmZmZmYGQDMzMzMzMwdAAAAAAAAACEDNzMzMzMwIQJqZmZmZmQlAZ2ZmZmZmCkA0MzMzMzMLQAAAAAAAAAxAzMzMzMzMDECamZmZmZkNQGZmZmZmZg5ANDMzMzMzD0AAAAAAAAAQQGZmZmZmZhBAzczMzMzMEEAzMzMzMzMRQJqZmZmZmRFAAAAAAAAAEkBnZmZmZmYSQMzMzMzMzBJAMzMzMzMzE0CamZmZmZkTQAAAAAAAABRAZmZmZmZmFEDNzMzMzMwUQDQzMzMzMxVAmpmZmZmZFUAAAAAAAAAWQGdmZmZmZhZAzMzMzMzMFkAzMzMzMzMXQJmZmZmZmRdAAAAAAAAAGEBmZmZmZmYYQM3MzMzMzBhAMzMzMzMzGUCamZmZmZkZQAAAAAAAABpAZ2ZmZmZmGkDNzMzMzMwaQDQzMzMzMxtAmZmZmZmZG0AAAAAAAAAcQGZmZmZmZhxAzMzMzMzMHEAzMzMzMzMdQJqZmZmZmR1AAAAAAAAAHkBmZmZmZmYeQM3MzMzMzB5ANDMzMzMzH0CamZmZmZkfQAAAAAAAACBANDMzMzMzIEBmZmZmZmYgQJmZmZmZmSBAzczMzMzMIEAAAAAAAAAhQDMzMzMzMyFAZmZmZmZmIUCamZmZmZkhQM3MzMzMzCFAAAAAAAAAIkAzMzMzMzMiQGdmZmZmZiJAmpmZmZmZIkDMzMzMzMwiQAAAAAAAACNAMzMzMzMzI0BmZmZmZmYjQJqZmZmZmSNAzczMzMzMI0A=\",\"dtype\":\"float64\",\"order\":\"little\",\"shape\":[100]},\"right\":{\"__ndarray__\":\"mpmZmZmZuT+amZmZmZnJPzMzMzMzM9M/mpmZmZmZ2T8AAAAAAADgPzMzMzMzM+M/Z2ZmZmZm5j+amZmZmZnpP8zMzMzMzOw/AAAAAAAA8D+amZmZmZnxPzMzMzMzM/M/zczMzMzM9D9nZmZmZmb2PwAAAAAAAPg/mpmZmZmZ+T80MzMzMzP7P8zMzMzMzPw/ZmZmZmZm/j8AAAAAAAAAQM3MzMzMzABAmpmZmZmZAUBnZmZmZmYCQDMzMzMzMwNAAAAAAAAABEDNzMzMzMwEQJqZmZmZmQVAZ2ZmZmZmBkAzMzMzMzMHQAAAAAAAAAhAzczMzMzMCECamZmZmZkJQGdmZmZmZgpANDMzMzMzC0AAAAAAAAAMQMzMzMzMzAxAmpmZmZmZDUBmZmZmZmYOQDQzMzMzMw9AAAAAAAAAEEBmZmZmZmYQQM3MzMzMzBBAMzMzMzMzEUCamZmZmZkRQAAAAAAAABJAZ2ZmZmZmEkDMzMzMzMwSQDMzMzMzMxNAmpmZmZmZE0AAAAAAAAAUQGZmZmZmZhRAzczMzMzMFEA0MzMzMzMVQJqZmZmZmRVAAAAAAAAAFkBnZmZmZmYWQMzMzMzMzBZAMzMzMzMzF0CZmZmZmZkXQAAAAAAAABhAZmZmZmZmGEDNzMzMzMwYQDMzMzMzMxlAmpmZmZmZGUAAAAAAAAAaQGdmZmZmZhpAzczMzMzMGkA0MzMzMzMbQJmZmZmZmRtAAAAAAAAAHEBmZmZmZmYcQMzMzMzMzBxAMzMzMzMzHUCamZmZmZkdQAAAAAAAAB5AZmZmZmZmHkDNzMzMzMweQDQzMzMzMx9AmpmZmZmZH0AAAAAAAAAgQDQzMzMzMyBAZmZmZmZmIECZmZmZmZkgQM3MzMzMzCBAAAAAAAAAIUAzMzMzMzMhQGZmZmZmZiFAmpmZmZmZIUDNzMzMzMwhQAAAAAAAACJAMzMzMzMzIkBnZmZmZmYiQJqZmZmZmSJAzMzMzMzMIkAAAAAAAAAjQDMzMzMzMyNAZmZmZmZmI0CamZmZmZkjQM3MzMzMzCNAAAAAAAAAJEA=\",\"dtype\":\"float64\",\"order\":\"little\",\"shape\":[100]},\"top\":{\"__ndarray__\":\"AAAAgB/lQUEAAAAA0OIOQQAAAAAQqfNAAAAAAKAM5EAAAAAAAEXZQAAAAACA/tBAAAAAAADUyEAAAAAAAA3CQAAAAAAAN7pAAAAAAABvskAAAAAAABqpQAAAAAAAXqBAAAAAAADYlEAAAAAAAMiIQAAAAAAAUHtAAAAAAADga0AAAAAAAIBeQAAAAAAAAFRAAAAAAAAAM0AAAAAAAAAuQAAAAAAAACZAAAAAAAAAFEAAAAAAAAAAQAAAAAAAAABAAAAAAAAAAEAAAAAAAAAAQAAAAAAAAPA/AAAAAAAA8D8AAAAAAADwPwAAAAAAAPA/AAAAAAAA8D8AAAAAAAAAAAAAAAAAAAAAAAAAAAAA8D8AAAAAAAAAAAAAAAAAAAAAAAAAAAAAAAAAAAAAAADwPwAAAAAAAAAAAAAAAAAA8D8AAAAAAAAAAAAAAAAAAAAAAAAAAAAAAAAAAAAAAAAAAAAAAAAAAPA/AAAAAAAAAAAAAAAAAADwPwAAAAAAAAAAAAAAAAAAAAAAAAAAAAAAAAAAAAAAAPA/AAAAAAAAAAAAAAAAAAAAAAAAAAAAAAAAAAAAAAAAAAAAAAAAAAAAAAAAAAAAAAAAAAAAAAAAAAAAAAAAAAAAAAAAAAAAAAAAAAAAAAAAAAAAAAAAAADwPwAAAAAAAAAAAAAAAAAAAAAAAAAAAAAAAAAAAAAAAAAAAAAAAAAAAAAAAAAAAAAAAAAAAAAAAAAAAAAAAAAAAAAAAAAAAAAAAAAAAAAAAAAAAAAAAAAAAAAAAAAAAAAAAAAAAAAAAAAAAAAAAAAAAAAAAAAAAAAAAAAAAAAAAAAAAAAAAAAAAAAAAAAAAAAAAAAAAAAAAAAAAAAAAAAAAAAAAAAAAAAAAAAAAAAAAAAAAAAAAAAAAAAAAAAAAAAAAAAAAAAAAAAAAAAAAAAAAAAAAAAAAAAAAAAAAAAAAAAAAAAAAAAAAAAAAAAAAAAAAAAAAAAAAAAAAAAAAAAAAAAAAAAAAAAAAAAAAAAAAAAAAAAAAAAAAAAAAAAAAAAAAAAAAAAAAAAAAAAAAAAAAAA=\",\"dtype\":\"float64\",\"order\":\"little\",\"shape\":[100]}},\"selected\":{\"id\":\"1050\"},\"selection_policy\":{\"id\":\"1049\"}},\"id\":\"1034\",\"type\":\"ColumnDataSource\"},{\"attributes\":{\"coordinates\":null,\"group\":null},\"id\":\"1041\",\"type\":\"Title\"},{\"attributes\":{\"axis\":{\"id\":\"1016\"},\"coordinates\":null,\"dimension\":1,\"group\":null,\"ticker\":null},\"id\":\"1019\",\"type\":\"Grid\"},{\"attributes\":{},\"id\":\"1048\",\"type\":\"AllLabels\"},{\"attributes\":{},\"id\":\"1010\",\"type\":\"LinearScale\"},{\"attributes\":{\"source\":{\"id\":\"1034\"}},\"id\":\"1040\",\"type\":\"CDSView\"},{\"attributes\":{},\"id\":\"1008\",\"type\":\"LinearScale\"}],\"root_ids\":[\"1003\"]},\"title\":\"Bokeh Application\",\"version\":\"2.4.3\"}};\n  const render_items = [{\"docid\":\"5cb0fa7f-1066-425f-908c-b79478d3bdf3\",\"root_ids\":[\"1003\"],\"roots\":{\"1003\":\"48a5f802-643b-4927-8648-9b2409d30925\"}}];\n  root.Bokeh.embed.embed_items_notebook(docs_json, render_items);\n  }\n  if (root.Bokeh !== undefined) {\n    embed_document(root);\n  } else {\n    let attempts = 0;\n    const timer = setInterval(function(root) {\n      if (root.Bokeh !== undefined) {\n        clearInterval(timer);\n        embed_document(root);\n      } else {\n        attempts++;\n        if (attempts > 100) {\n          clearInterval(timer);\n          console.log(\"Bokeh: ERROR: Unable to run BokehJS code because BokehJS library is missing\");\n        }\n      }\n    }, 10, root)\n  }\n})(window);",
      "application/vnd.bokehjs_exec.v0+json": ""
     },
     "metadata": {
      "application/vnd.bokehjs_exec.v0+json": {
       "id": "1003"
      }
     },
     "output_type": "display_data"
    }
   ],
   "source": [
    "h_plot = h[:, 29:30].project(\"energy\")\n",
    "source.data = {\"top\":h_plot.view(), \"left\":h_plot.axes[0].edges[:-1], \"right\":h_plot.axes[0].edges[1:]}\n",
    "bokeh.plotting.show(p)"
   ]
  },
  {
   "cell_type": "code",
   "execution_count": 82,
   "metadata": {},
   "outputs": [
    {
     "data": {
      "text/plain": [
       "array([[0.00000e+00, 0.00000e+00, 0.00000e+00, 0.00000e+00, 0.00000e+00,\n",
       "        0.00000e+00, 0.00000e+00, 0.00000e+00, 0.00000e+00, 0.00000e+00],\n",
       "       [0.00000e+00, 0.00000e+00, 0.00000e+00, 0.00000e+00, 2.15800e+03,\n",
       "        2.29000e+03, 0.00000e+00, 0.00000e+00, 0.00000e+00, 0.00000e+00],\n",
       "       [0.00000e+00, 0.00000e+00, 0.00000e+00, 2.08480e+04, 6.64950e+04,\n",
       "        7.54660e+04, 4.61800e+04, 0.00000e+00, 0.00000e+00, 0.00000e+00],\n",
       "       [0.00000e+00, 0.00000e+00, 7.30000e+03, 5.40490e+04, 1.82409e+05,\n",
       "        2.25270e+05, 1.78193e+05, 3.71360e+04, 4.67700e+03, 0.00000e+00],\n",
       "       [0.00000e+00, 1.58500e+03, 2.58860e+04, 1.09309e+05, 3.74441e+05,\n",
       "        3.80419e+05, 3.81736e+05, 9.39960e+04, 6.01900e+03, 0.00000e+00],\n",
       "       [0.00000e+00, 1.33500e+03, 9.97300e+03, 3.50460e+04, 9.33620e+04,\n",
       "        1.12754e+05, 9.31840e+04, 2.73400e+04, 3.96200e+03, 0.00000e+00],\n",
       "       [0.00000e+00, 0.00000e+00, 2.74500e+03, 1.41160e+04, 2.99810e+04,\n",
       "        3.20850e+04, 2.99690e+04, 9.00000e+03, 1.47100e+03, 0.00000e+00],\n",
       "       [0.00000e+00, 0.00000e+00, 0.00000e+00, 4.89100e+03, 1.11460e+04,\n",
       "        9.86000e+03, 6.47300e+03, 0.00000e+00, 0.00000e+00, 0.00000e+00],\n",
       "       [0.00000e+00, 0.00000e+00, 0.00000e+00, 0.00000e+00, 2.64000e+02,\n",
       "        3.53000e+02, 0.00000e+00, 0.00000e+00, 0.00000e+00, 0.00000e+00],\n",
       "       [0.00000e+00, 0.00000e+00, 0.00000e+00, 0.00000e+00, 0.00000e+00,\n",
       "        0.00000e+00, 0.00000e+00, 0.00000e+00, 0.00000e+00, 0.00000e+00]])"
      ]
     },
     "execution_count": 82,
     "metadata": {},
     "output_type": "execute_result"
    }
   ],
   "source": [
    "h_2d = rechits_position.project(\"x\", \"y\")\n",
    "h_2d.view()"
   ]
  },
  {
   "cell_type": "code",
   "execution_count": 86,
   "metadata": {},
   "outputs": [
    {
     "data": {
      "text/html": [
       "\n",
       "  <div class=\"bk-root\" id=\"799703df-e17f-4ef6-b5dc-818c66ef526b\" data-root-id=\"1618\"></div>\n"
      ]
     },
     "metadata": {},
     "output_type": "display_data"
    },
    {
     "data": {
      "application/javascript": "(function(root) {\n  function embed_document(root) {\n  const docs_json = {\"99a75072-d566-41ea-8480-27071353f627\":{\"defs\":[],\"roots\":{\"references\":[{\"attributes\":{\"below\":[{\"id\":\"1627\"}],\"center\":[{\"id\":\"1630\"},{\"id\":\"1634\"}],\"left\":[{\"id\":\"1631\"}],\"renderers\":[{\"id\":\"1659\"}],\"title\":{\"id\":\"1705\"},\"toolbar\":{\"id\":\"1642\"},\"x_range\":{\"id\":\"1619\"},\"x_scale\":{\"id\":\"1623\"},\"y_range\":{\"id\":\"1621\"},\"y_scale\":{\"id\":\"1625\"}},\"id\":\"1618\",\"subtype\":\"Figure\",\"type\":\"Plot\"},{\"attributes\":{\"color_mapper\":{\"id\":\"1654\"},\"dh\":{\"value\":10},\"dw\":{\"value\":10},\"global_alpha\":{\"value\":0.1},\"image\":{\"field\":\"image\"},\"x\":{\"value\":0},\"y\":{\"value\":0}},\"id\":\"1653\",\"type\":\"Image\"},{\"attributes\":{\"tools\":[{\"id\":\"1635\"},{\"id\":\"1636\"},{\"id\":\"1637\"},{\"id\":\"1638\"},{\"id\":\"1639\"},{\"id\":\"1640\"}]},\"id\":\"1642\",\"type\":\"Toolbar\"},{\"attributes\":{\"palette\":[\"#000000\",\"#252525\",\"#525252\",\"#737373\",\"#969696\",\"#bdbdbd\",\"#d9d9d9\",\"#f0f0f0\",\"#ffffff\"]},\"id\":\"1651\",\"type\":\"LinearColorMapper\"},{\"attributes\":{\"color_mapper\":{\"id\":\"1657\"},\"dh\":{\"value\":10},\"dw\":{\"value\":10},\"global_alpha\":{\"value\":0.2},\"image\":{\"field\":\"image\"},\"x\":{\"value\":0},\"y\":{\"value\":0}},\"id\":\"1656\",\"type\":\"Image\"},{\"attributes\":{\"overlay\":{\"id\":\"1641\"}},\"id\":\"1637\",\"type\":\"BoxZoomTool\"},{\"attributes\":{},\"id\":\"1632\",\"type\":\"BasicTicker\"},{\"attributes\":{\"palette\":[\"#000000\",\"#252525\",\"#525252\",\"#737373\",\"#969696\",\"#bdbdbd\",\"#d9d9d9\",\"#f0f0f0\",\"#ffffff\"]},\"id\":\"1654\",\"type\":\"LinearColorMapper\"},{\"attributes\":{\"source\":{\"id\":\"1649\"}},\"id\":\"1660\",\"type\":\"CDSView\"},{\"attributes\":{\"data\":{\"image\":[{\"__ndarray__\":\"AAAAAAAAAAAAAAAAAAAAAAAAAAAAAAAAAAAAAAAAAAAAAAAAAAAAAAAAAAAAAAAAAAAAAAAAAAAAAAAAAAAAAAAAAAAAAAAAAAAAAAAAAAAAAAAAAAAAAAAAAAAAAAAAAAAAAAAAAAAAAAAAAAAAAAAAAAAA3KBAAAAAAADkoUAAAAAAAAAAAAAAAAAAAAAAAAAAAAAAAAAAAAAAAAAAAAAAAAAAAAAAAAAAAAAAAAAAAAAAAAAAAAAAAAAAXNRAAAAAAPA78EAAAAAAoGzyQAAAAACAjOZAAAAAAAAAAAAAAAAAAAAAAAAAAAAAAAAAAAAAAAAAAAAAAAAAAAAAAAAAAAAAhLxAAAAAACBk6kAAAAAASEQGQQAAAACwfwtBAAAAAIjABUEAAAAAACLiQAAAAAAARbJAAAAAAAAAAAAAAAAAAAAAAAAAAAAAxJhAAAAAAIBH2UAAAAAA0K/6QAAAAACk2hZBAAAAAAw4F0EAAAAAoEwXQQAAAADA8vZAAAAAAACDt0AAAAAAAAAAAAAAAAAAAAAAAAAAAADclEAAAAAAgHrDQAAAAADAHOFAAAAAACDL9kAAAAAAIIf7QAAAAAAAwPZAAAAAAACz2kAAAAAAAPSuQAAAAAAAAAAAAAAAAAAAAAAAAAAAAAAAAAAAAAAAcqVAAAAAAACSy0AAAAAAQEfdQAAAAABAVd9AAAAAAEBE3UAAAAAAAJTBQAAAAAAA/JZAAAAAAAAAAAAAAAAAAAAAAAAAAAAAAAAAAAAAAAAAAAAAAAAAABuzQAAAAAAAxcVAAAAAAABCw0AAAAAAAEm5QAAAAAAAAAAAAAAAAAAAAAAAAAAAAAAAAAAAAAAAAAAAAAAAAAAAAAAAAAAAAAAAAAAAAAAAAAAAAAAAAACAcEAAAAAAABB2QAAAAAAAAAAAAAAAAAAAAAAAAAAAAAAAAAAAAAAAAAAAAAAAAAAAAAAAAAAAAAAAAAAAAAAAAAAAAAAAAAAAAAAAAAAAAAAAAAAAAAAAAAAAAAAAAAAAAAAAAAAAAAAAAAAAAAAAAAAAAAAAAAAAAAA=\",\"dtype\":\"float64\",\"order\":\"little\",\"shape\":[10,10]}]},\"selected\":{\"id\":\"1714\"},\"selection_policy\":{\"id\":\"1713\"}},\"id\":\"1649\",\"type\":\"ColumnDataSource\"},{\"attributes\":{\"axis\":{\"id\":\"1627\"},\"coordinates\":null,\"group\":null,\"ticker\":null},\"id\":\"1630\",\"type\":\"Grid\"},{\"attributes\":{},\"id\":\"1712\",\"type\":\"AllLabels\"},{\"attributes\":{},\"id\":\"1625\",\"type\":\"LinearScale\"},{\"attributes\":{\"axis\":{\"id\":\"1631\"},\"coordinates\":null,\"dimension\":1,\"group\":null,\"ticker\":null},\"id\":\"1634\",\"type\":\"Grid\"},{\"attributes\":{},\"id\":\"1640\",\"type\":\"HelpTool\"},{\"attributes\":{},\"id\":\"1708\",\"type\":\"BasicTickFormatter\"},{\"attributes\":{\"bottom_units\":\"screen\",\"coordinates\":null,\"fill_alpha\":0.5,\"fill_color\":\"lightgrey\",\"group\":null,\"left_units\":\"screen\",\"level\":\"overlay\",\"line_alpha\":1.0,\"line_color\":\"black\",\"line_dash\":[4,4],\"line_width\":2,\"right_units\":\"screen\",\"syncable\":false,\"top_units\":\"screen\"},\"id\":\"1641\",\"type\":\"BoxAnnotation\"},{\"attributes\":{\"palette\":[\"#000000\",\"#252525\",\"#525252\",\"#737373\",\"#969696\",\"#bdbdbd\",\"#d9d9d9\",\"#f0f0f0\",\"#ffffff\"]},\"id\":\"1657\",\"type\":\"LinearColorMapper\"},{\"attributes\":{\"coordinates\":null,\"formatter\":{\"id\":\"1708\"},\"group\":null,\"major_label_policy\":{\"id\":\"1709\"},\"ticker\":{\"id\":\"1632\"}},\"id\":\"1631\",\"type\":\"LinearAxis\"},{\"attributes\":{},\"id\":\"1638\",\"type\":\"SaveTool\"},{\"attributes\":{},\"id\":\"1636\",\"type\":\"WheelZoomTool\"},{\"attributes\":{\"coordinates\":null,\"group\":null},\"id\":\"1705\",\"type\":\"Title\"},{\"attributes\":{},\"id\":\"1713\",\"type\":\"UnionRenderers\"},{\"attributes\":{},\"id\":\"1714\",\"type\":\"Selection\"},{\"attributes\":{\"coordinates\":null,\"formatter\":{\"id\":\"1711\"},\"group\":null,\"major_label_policy\":{\"id\":\"1712\"},\"ticker\":{\"id\":\"1628\"}},\"id\":\"1627\",\"type\":\"LinearAxis\"},{\"attributes\":{},\"id\":\"1623\",\"type\":\"LinearScale\"},{\"attributes\":{},\"id\":\"1621\",\"type\":\"DataRange1d\"},{\"attributes\":{},\"id\":\"1639\",\"type\":\"ResetTool\"},{\"attributes\":{},\"id\":\"1619\",\"type\":\"DataRange1d\"},{\"attributes\":{},\"id\":\"1628\",\"type\":\"BasicTicker\"},{\"attributes\":{},\"id\":\"1709\",\"type\":\"AllLabels\"},{\"attributes\":{},\"id\":\"1635\",\"type\":\"PanTool\"},{\"attributes\":{\"coordinates\":null,\"data_source\":{\"id\":\"1649\"},\"glyph\":{\"id\":\"1650\"},\"group\":null,\"hover_glyph\":null,\"muted_glyph\":{\"id\":\"1656\"},\"nonselection_glyph\":{\"id\":\"1653\"},\"view\":{\"id\":\"1660\"}},\"id\":\"1659\",\"type\":\"GlyphRenderer\"},{\"attributes\":{\"color_mapper\":{\"id\":\"1651\"},\"dh\":{\"value\":10},\"dw\":{\"value\":10},\"image\":{\"field\":\"image\"},\"x\":{\"value\":0},\"y\":{\"value\":0}},\"id\":\"1650\",\"type\":\"Image\"},{\"attributes\":{},\"id\":\"1711\",\"type\":\"BasicTickFormatter\"}],\"root_ids\":[\"1618\"]},\"title\":\"Bokeh Application\",\"version\":\"2.4.3\"}};\n  const render_items = [{\"docid\":\"99a75072-d566-41ea-8480-27071353f627\",\"root_ids\":[\"1618\"],\"roots\":{\"1618\":\"799703df-e17f-4ef6-b5dc-818c66ef526b\"}}];\n  root.Bokeh.embed.embed_items_notebook(docs_json, render_items);\n  }\n  if (root.Bokeh !== undefined) {\n    embed_document(root);\n  } else {\n    let attempts = 0;\n    const timer = setInterval(function(root) {\n      if (root.Bokeh !== undefined) {\n        clearInterval(timer);\n        embed_document(root);\n      } else {\n        attempts++;\n        if (attempts > 100) {\n          clearInterval(timer);\n          console.log(\"Bokeh: ERROR: Unable to run BokehJS code because BokehJS library is missing\");\n        }\n      }\n    }, 10, root)\n  }\n})(window);",
      "application/vnd.bokehjs_exec.v0+json": ""
     },
     "metadata": {
      "application/vnd.bokehjs_exec.v0+json": {
       "id": "1618"
      }
     },
     "output_type": "display_data"
    }
   ],
   "source": [
    "fig = bokeh.plotting.figure()\n",
    "fig.image(image=[h_2d.view()], x=0, y=0, dw=10, dh=10, palette=\"Spectral11\")\n",
    "bokeh.plotting.show(fig)\n"
   ]
  },
  {
   "cell_type": "code",
   "execution_count": 85,
   "metadata": {},
   "outputs": [
    {
     "data": {
      "text/plain": [
       "array([-10.,  -8.,  -6.,  -4.,  -2.,   0.,   2.,   4.,   6.,   8.,  10.])"
      ]
     },
     "execution_count": 85,
     "metadata": {},
     "output_type": "execute_result"
    }
   ],
   "source": [
    "h_2d.axes[0].edges"
   ]
  }
 ],
 "metadata": {
  "kernelspec": {
   "display_name": "Python 3",
   "language": "python",
   "name": "python3"
  },
  "language_info": {
   "codemirror_mode": {
    "name": "ipython",
    "version": 3
   },
   "file_extension": ".py",
   "mimetype": "text/x-python",
   "name": "python",
   "nbconvert_exporter": "python",
   "pygments_lexer": "ipython3",
   "version": "3.10.9"
  },
  "orig_nbformat": 4,
  "vscode": {
   "interpreter": {
    "hash": "486d5ba1fc5d75dc91e802f81ee054811e3b39e02cd33826b338c3563f0d4b9d"
   }
  }
 },
 "nbformat": 4,
 "nbformat_minor": 2
}
